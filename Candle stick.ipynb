{
 "cells": [
  {
   "cell_type": "code",
   "execution_count": 1,
   "metadata": {},
   "outputs": [],
   "source": [
    "import yfinance as yf\n",
    "import pandas as pd\n",
    "import time\n"
   ]
  },
  {
   "cell_type": "code",
   "execution_count": 2,
   "metadata": {},
   "outputs": [],
   "source": [
    "def has_bullish_engulfing(open_1, close_1, open_2, close_2):\n",
    "    # Conditions for a bullish engulfing pattern\n",
    "    is_bullish_engulfing = close_1 < open_1 and open_2 < close_2 and close_2 > open_1 and open_2 < close_1\n",
    "\n",
    "    return is_bullish_engulfing"
   ]
  },
  {
   "cell_type": "code",
   "execution_count": 3,
   "metadata": {},
   "outputs": [],
   "source": [
    "def has_bearish_engulfing(open_1, close_1, open_2, close_2):\n",
    "    # Conditions for a bearish engulfing pattern\n",
    "    is_bearish_engulfing = open_1 < close_1 and close_2 < open_2 and open_2 > close_1 and close_2 > open_1\n",
    "\n",
    "    return is_bearish_engulfing"
   ]
  },
  {
   "cell_type": "code",
   "execution_count": 4,
   "metadata": {},
   "outputs": [],
   "source": [
    "def has_harami_dark(open_1, close_1, open_2, close_2):\n",
    "    # Conditions for a Harami Dark pattern\n",
    "    is_harami_dark = open_1 < close_1 and open_2 > close_1 and close_2 < open_1 and close_2 < open_2\n",
    "\n",
    "    return is_harami_dark"
   ]
  },
  {
   "cell_type": "code",
   "execution_count": 5,
   "metadata": {},
   "outputs": [],
   "source": [
    "def has_cloud_cover(open_1, close_1, open_2, close_2):\n",
    "    # Conditions for a Cloud Cover pattern\n",
    "    is_cloud_cover = open_1 > close_1 and close_2 > open_1 and close_2 < open_2 and open_2 < close_1\n",
    "\n",
    "    return is_cloud_cover"
   ]
  },
  {
   "cell_type": "code",
   "execution_count": 6,
   "metadata": {},
   "outputs": [],
   "source": [
    "def has_three_inside_up(open_1, close_1, open_2, close_2, open_3, close_3):\n",
    "    # Conditions for a Three Inside Up pattern\n",
    "    is_three_inside_up = open_2 > close_1 and close_2 < open_1 and open_3 > close_2 and close_3 > close_2\n",
    "\n",
    "    return is_three_inside_up\n"
   ]
  },
  {
   "cell_type": "code",
   "execution_count": 7,
   "metadata": {},
   "outputs": [],
   "source": [
    "def has_three_inside_down(open_1, close_1, open_2, close_2, open_3, close_3):\n",
    "    # Conditions for a Three Inside Down pattern\n",
    "    is_three_inside_down = open_2 > close_1 and close_2 > open_1 and open_3 > close_2 and close_3 < open_2\n",
    "\n",
    "    return is_three_inside_down"
   ]
  },
  {
   "cell_type": "code",
   "execution_count": 8,
   "metadata": {},
   "outputs": [],
   "source": [
    "def has_bullish_morning_star(open_1, close_1, open_2, close_2, open_3, close_3):\n",
    "    # Conditions for a Bullish Morning Star pattern\n",
    "    is_bullish_morning_star = close_1 < open_1 and open_2 > close_1 and close_2 < open_2 and open_3 < close_2 and close_3 > open_2\n",
    "\n",
    "    return is_bullish_morning_star\n"
   ]
  },
  {
   "cell_type": "code",
   "execution_count": 9,
   "metadata": {},
   "outputs": [],
   "source": [
    "def has_bearish_evening_star(open_1, close_1, open_2, close_2, open_3, close_3):\n",
    "    # Conditions for a Bearish Evening Star pattern\n",
    "    is_bearish_evening_star = close_1 > open_1 and open_2 < close_1 and close_2 > open_2 and open_3 > close_2 and close_3 < open_2\n",
    "\n",
    "    return is_bearish_evening_star"
   ]
  },
  {
   "cell_type": "code",
   "execution_count": 10,
   "metadata": {},
   "outputs": [],
   "source": [
    "def has_three_white_soldiers(open_1, close_1, open_2, close_2, open_3, close_3):\n",
    "    # Conditions for Three White Soldiers pattern\n",
    "    is_three_white_soldiers = close_1 > open_1 and close_2 > open_2 and close_3 > open_3\n",
    "\n",
    "    return is_three_white_soldiers\n"
   ]
  },
  {
   "cell_type": "code",
   "execution_count": 11,
   "metadata": {},
   "outputs": [],
   "source": [
    "def has_three_black_crows(open_1, close_1, open_2, close_2, open_3, close_3):\n",
    "    # Conditions for Three Black Crows pattern\n",
    "    is_three_black_crows = close_1 < open_1 and close_2 < open_2 and close_3 < open_3\n",
    "\n",
    "    return is_three_black_crows"
   ]
  },
  {
   "cell_type": "code",
   "execution_count": null,
   "metadata": {},
   "outputs": [],
   "source": []
  },
  {
   "cell_type": "code",
   "execution_count": 12,
   "metadata": {},
   "outputs": [],
   "source": [
    "def analyze_live_data(stock_symbol, interval=5):\n",
    "    k = str(stock_symbol)\n",
    "    while True:\n",
    "        try:\n",
    "            stock_data = yf.download(stock_symbol, period=\"1d\", interval=str(interval) + \"m\")\n",
    "\n",
    "            # Detect patterns\n",
    "            detected_patterns = []\n",
    "            \n",
    "            for i in range(3, len(stock_data)):\n",
    "                open_1 = stock_data['Open'][i - 3]\n",
    "                close_1 = stock_data['Close'][i - 3]\n",
    "                open_2 = stock_data['Open'][i - 2]\n",
    "                close_2 = stock_data['Close'][i - 2]\n",
    "                open_3 = stock_data['Open'][i - 1]\n",
    "                close_3 = stock_data['Close'][i - 1]\n",
    "                open_4 = stock_data['Open'][i]\n",
    "                close_4 = stock_data['Close'][i]\n",
    "\n",
    "                if has_bullish_engulfing(open_1, close_1, open_2, close_2):\n",
    "                    detected_patterns.append(\"Bullish Engulfing on \" + str(stock_data.index[i - 2]))\n",
    "                if has_bearish_engulfing(open_1, close_1, open_2, close_2):\n",
    "                    detected_patterns.append(\"Bearish Engulfing on \" + str(stock_data.index[i - 2]))\n",
    "                if has_harami_dark(open_1, close_1, open_2, close_2):\n",
    "                    detected_patterns.append(\"Harami Dark on \" + str(stock_data.index[i - 2]))\n",
    "                if has_cloud_cover(open_1, close_1, open_2, close_2):\n",
    "                    detected_patterns.append(\"Cloud Cover on \" + str(stock_data.index[i - 2]))\n",
    "                if has_three_inside_up(open_1, close_1, open_2, close_2, open_3, close_3):\n",
    "                    detected_patterns.append(\"Three Inside Up on \" + str(stock_data.index[i - 1]))\n",
    "                if has_three_inside_down(open_1, close_1, open_2, close_2, open_3, close_3):\n",
    "                    detected_patterns.append(\"Three Inside Down on \" + str(stock_data.index[i - 1]))\n",
    "                if has_bullish_morning_star(open_1, close_1, open_2, close_2, open_3, close_3):\n",
    "                    detected_patterns.append(\"Bullish Morning Star on \" + str(stock_data.index[i - 2]))\n",
    "                if has_bearish_evening_star(open_1, close_1, open_2, close_2, open_3, close_3):\n",
    "                    detected_patterns.append(\"Bearish Evening Star on \" + str(stock_data.index[i - 2]))\n",
    "                if has_three_white_soldiers(open_1, close_1, open_2, close_2, open_3, close_3):\n",
    "                    detected_patterns.append(\"Three White Soldiers on \" + str(stock_data.index[i - 2]))\n",
    "                if has_three_black_crows(open_1, close_1, open_2, close_2, open_3, close_3):\n",
    "                    detected_patterns.append(\"Three Black Crows on \" + str(stock_data.index[i - 2]))\n",
    "                # Similar checks for other patterns\n",
    "                \n",
    "            if len(detected_patterns) > 0:\n",
    "                print(k + \" Patterns detected:\")\n",
    "                for pattern in detected_patterns:\n",
    "                    print(pattern)\n",
    "            else:\n",
    "                print(\"No patterns detected.\")\n",
    "\n",
    "            time.sleep(interval * 60)  # Sleep for the specified interval in seconds\n",
    "        except Exception as e:\n",
    "            print(\"Error:\", e)\n",
    "            time.sleep(interval * 60)  # Sleep in case of an error\n"
   ]
  },
  {
   "cell_type": "code",
   "execution_count": 13,
   "metadata": {},
   "outputs": [
    {
     "name": "stdout",
     "output_type": "stream",
     "text": [
      "[*********************100%***********************]  1 of 1 completed\n",
      "IRFC.NS Patterns detected:\n",
      "Three White Soldiers on 2023-08-25 09:20:00+05:30\n",
      "Three Black Crows on 2023-08-25 10:05:00+05:30\n",
      "Three Black Crows on 2023-08-25 10:10:00+05:30\n",
      "Three Black Crows on 2023-08-25 10:15:00+05:30\n",
      "Three Black Crows on 2023-08-25 10:20:00+05:30\n",
      "Three Black Crows on 2023-08-25 10:25:00+05:30\n",
      "Three Inside Up on 2023-08-25 11:20:00+05:30\n"
     ]
    }
   ],
   "source": [
    "if __name__ == '__main__':\n",
    "    stock_symbol = 'IRFC.NS'   # Replace with the desired stock symbol\n",
    "    interval = 5  # Replace with the desired interval in minutes\n",
    "    \n",
    "    analyze_live_data(stock_symbol, interval)"
   ]
  }
 ],
 "metadata": {
  "kernelspec": {
   "display_name": "base",
   "language": "python",
   "name": "python3"
  },
  "language_info": {
   "codemirror_mode": {
    "name": "ipython",
    "version": 3
   },
   "file_extension": ".py",
   "mimetype": "text/x-python",
   "name": "python",
   "nbconvert_exporter": "python",
   "pygments_lexer": "ipython3",
   "version": "3.11.3"
  },
  "orig_nbformat": 4
 },
 "nbformat": 4,
 "nbformat_minor": 2
}
